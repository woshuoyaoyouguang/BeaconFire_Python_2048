{
 "cells": [
  {
   "cell_type": "code",
   "execution_count": 4,
   "id": "79f89925",
   "metadata": {},
   "outputs": [],
   "source": [
    "from game_functions import initialize_board, display_board, can_move, move_up, move_down, move_left, move_right, add_new_two, check_game_over\n"
   ]
  },
  {
   "cell_type": "code",
   "execution_count": 5,
   "id": "fb1d773c",
   "metadata": {},
   "outputs": [],
   "source": [
    "def play_game():\n",
    "    board = initialize_board()\n",
    "    while True:\n",
    "        display_board(board)\n",
    "        move = input(\"Enter move (w, a, s, d): \").lower()\n",
    "        \n",
    "        if move in ['w', 's', 'a', 'd'] and can_move(board, move):\n",
    "            if move == 'w':\n",
    "                board = move_up(board)\n",
    "            elif move == 's':\n",
    "                board = move_down(board)\n",
    "            elif move == 'a':\n",
    "                board = move_left(board)\n",
    "            elif move == 'd':\n",
    "                board = move_right(board)\n",
    "\n",
    "            add_new_two(board)\n",
    "            if check_game_over(board):\n",
    "                display_board(board)\n",
    "                print(\"Game Over!\")\n",
    "                break\n",
    "        else:\n",
    "            print(\"Invalid input or no possible moves. Try again.\")"
   ]
  },
  {
   "cell_type": "code",
   "execution_count": null,
   "id": "a97bb126",
   "metadata": {},
   "outputs": [
    {
     "name": "stdout",
     "output_type": "stream",
     "text": [
      "   0  1  2  3\n",
      "0  0  0  2  0\n",
      "1  0  0  0  2\n",
      "2  0  0  0  0\n",
      "3  0  0  0  0\n",
      "\n",
      "Enter move (w, a, s, d): w\n",
      "   0  1  2  3\n",
      "0  0  0  2  2\n",
      "1  0  0  0  0\n",
      "2  2  0  0  0\n",
      "3  0  0  0  0\n",
      "\n",
      "Enter move (w, a, s, d): a\n",
      "   0  1  2  3\n",
      "0  4  0  0  0\n",
      "1  0  0  0  2\n",
      "2  2  0  0  0\n",
      "3  0  0  0  0\n",
      "\n",
      "Enter move (w, a, s, d): de\n",
      "Invalid input or no possible moves. Try again.\n",
      "   0  1  2  3\n",
      "0  4  0  0  0\n",
      "1  0  0  0  2\n",
      "2  2  0  0  0\n",
      "3  0  0  0  0\n",
      "\n",
      "Enter move (w, a, s, d): s\n",
      "   0  1  2  3\n",
      "0  0  0  0  0\n",
      "1  0  0  0  2\n",
      "2  4  0  0  0\n",
      "3  2  0  0  2\n",
      "\n",
      "Enter move (w, a, s, d): w\n",
      "   0  1  2  3\n",
      "0  4  2  0  4\n",
      "1  2  0  0  0\n",
      "2  0  0  0  0\n",
      "3  0  0  0  0\n",
      "\n",
      "Enter move (w, a, s, d): d\n",
      "   0  1  2  3\n",
      "0  0  4  2  4\n",
      "1  0  0  0  2\n",
      "2  0  0  0  0\n",
      "3  0  0  2  0\n",
      "\n"
     ]
    }
   ],
   "source": [
    "play_game()\n"
   ]
  },
  {
   "cell_type": "code",
   "execution_count": null,
   "id": "7ce6f569",
   "metadata": {},
   "outputs": [],
   "source": []
  }
 ],
 "metadata": {
  "kernelspec": {
   "display_name": "My Environment",
   "language": "python",
   "name": "llm"
  },
  "language_info": {
   "codemirror_mode": {
    "name": "ipython",
    "version": 3
   },
   "file_extension": ".py",
   "mimetype": "text/x-python",
   "name": "python",
   "nbconvert_exporter": "python",
   "pygments_lexer": "ipython3",
   "version": "3.9.16"
  }
 },
 "nbformat": 4,
 "nbformat_minor": 5
}
